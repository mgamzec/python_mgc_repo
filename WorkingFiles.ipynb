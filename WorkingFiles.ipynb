{
 "cells": [
  {
   "cell_type": "code",
   "execution_count": 1,
   "id": "5598d698-66c8-4259-8ab1-647843dade3e",
   "metadata": {},
   "outputs": [
    {
     "name": "stdout",
     "output_type": "stream",
     "text": [
      "Writing myfile.txt\n"
     ]
    }
   ],
   "source": [
    "%%writefile myfile.txt\n",
    "test 1\n",
    "test 2\n",
    "test 3"
   ]
  },
  {
   "cell_type": "code",
   "execution_count": 4,
   "id": "fd4b2c52-cf31-4bcb-a0f8-c0a340aa86e9",
   "metadata": {},
   "outputs": [],
   "source": [
    "myFile = open(\"myfile.txt\") # aynı dosyanın icinde olmasalardı yolu belirtmemiz gerekiyordu"
   ]
  },
  {
   "cell_type": "code",
   "execution_count": 5,
   "id": "c2ec558e-1e45-46c0-9a36-4d64572b3b23",
   "metadata": {},
   "outputs": [
    {
     "data": {
      "text/plain": [
       "_io.TextIOWrapper"
      ]
     },
     "execution_count": 5,
     "metadata": {},
     "output_type": "execute_result"
    }
   ],
   "source": [
    "type(myFile)"
   ]
  },
  {
   "cell_type": "code",
   "execution_count": 7,
   "id": "66402e71-140d-4245-8c3b-9b3ee04e0ef0",
   "metadata": {},
   "outputs": [],
   "source": [
    "# io --> input output islemleri icin kullanılan genel bir isimlendirmedir"
   ]
  },
  {
   "cell_type": "code",
   "execution_count": 10,
   "id": "114d7024-892a-4d3e-8c27-8fa0ae4757e1",
   "metadata": {},
   "outputs": [
    {
     "data": {
      "text/plain": [
       "'test 1\\ntest 2\\ntest 3\\n'"
      ]
     },
     "execution_count": 10,
     "metadata": {},
     "output_type": "execute_result"
    }
   ],
   "source": [
    "myFile.read()"
   ]
  },
  {
   "cell_type": "code",
   "execution_count": 13,
   "id": "f926dc80-905e-408a-929d-6cd62ece9a87",
   "metadata": {},
   "outputs": [
    {
     "data": {
      "text/plain": [
       "''"
      ]
     },
     "execution_count": 13,
     "metadata": {},
     "output_type": "execute_result"
    }
   ],
   "source": [
    "myFile.read()  # dosyayı tekrar okumak istedigimizde bos gösterdi"
   ]
  },
  {
   "cell_type": "code",
   "execution_count": 16,
   "id": "c3ad5fd8-9835-43a2-9fe2-4ca772329ffa",
   "metadata": {},
   "outputs": [
    {
     "data": {
      "text/plain": [
       "0"
      ]
     },
     "execution_count": 16,
     "metadata": {},
     "output_type": "execute_result"
    }
   ],
   "source": [
    "myFile.seek(0) # seek 0 diyerek dosyanın en basına gidebiliriz"
   ]
  },
  {
   "cell_type": "code",
   "execution_count": 17,
   "id": "6e2285fd-e909-4aed-84b4-f823e05a82e0",
   "metadata": {},
   "outputs": [
    {
     "data": {
      "text/plain": [
       "'test 1\\ntest 2\\ntest 3\\n'"
      ]
     },
     "execution_count": 17,
     "metadata": {},
     "output_type": "execute_result"
    }
   ],
   "source": [
    "myFile.read()"
   ]
  },
  {
   "cell_type": "code",
   "execution_count": 18,
   "id": "254f8894-ac05-4663-af38-ab47f8876016",
   "metadata": {},
   "outputs": [
    {
     "data": {
      "text/plain": [
       "''"
      ]
     },
     "execution_count": 18,
     "metadata": {},
     "output_type": "execute_result"
    }
   ],
   "source": [
    "myFile.read()"
   ]
  },
  {
   "cell_type": "code",
   "execution_count": 19,
   "id": "514131a6-f08c-43d6-8080-c9a8acd3c7e0",
   "metadata": {},
   "outputs": [],
   "source": [
    "# Her calıstırdıgımızda en sonuna gelecegi icin yine bos verdi"
   ]
  },
  {
   "cell_type": "code",
   "execution_count": 21,
   "id": "1de560bd-79d9-467e-8072-c0c06e007fd4",
   "metadata": {},
   "outputs": [],
   "source": [
    "# Bu islemler oldukca manuel islemlerdir ve bunu optimize etmeliyiz\n",
    "# Bunun icin yeni bir key word karsımıza cıkar---> with"
   ]
  },
  {
   "cell_type": "code",
   "execution_count": 22,
   "id": "b249ee5e-87a8-4b73-ba6b-37d76fd76d21",
   "metadata": {},
   "outputs": [],
   "source": [
    "with open(\"myfile.txt\") as myFile:\n",
    "    myContent = myFile.read()"
   ]
  },
  {
   "cell_type": "code",
   "execution_count": 23,
   "id": "21ee08fc-c934-44a2-a40a-0d6271048efe",
   "metadata": {},
   "outputs": [
    {
     "data": {
      "text/plain": [
       "'test 1\\ntest 2\\ntest 3\\n'"
      ]
     },
     "execution_count": 23,
     "metadata": {},
     "output_type": "execute_result"
    }
   ],
   "source": [
    "myContent"
   ]
  },
  {
   "cell_type": "code",
   "execution_count": 24,
   "id": "b52aa3be-632e-4943-8ba8-3a7e86fc3752",
   "metadata": {},
   "outputs": [
    {
     "data": {
      "text/plain": [
       "'test 1\\ntest 2\\ntest 3\\n'"
      ]
     },
     "execution_count": 24,
     "metadata": {},
     "output_type": "execute_result"
    }
   ],
   "source": [
    "myContent"
   ]
  },
  {
   "cell_type": "code",
   "execution_count": 25,
   "id": "edd09a95-e9e1-4802-8fea-90b32ace1cfd",
   "metadata": {},
   "outputs": [],
   "source": [
    "with open(\"myfile.txt\",mode=\"w\") as myNewFile:\n",
    "    myNewFile.write(\"test 4\")"
   ]
  },
  {
   "cell_type": "code",
   "execution_count": 27,
   "id": "d35afb8c-64e2-4012-9d22-789f7a4e8685",
   "metadata": {},
   "outputs": [
    {
     "data": {
      "text/plain": [
       "<_io.TextIOWrapper name='myfile.txt' mode='w' encoding='cp1254'>"
      ]
     },
     "execution_count": 27,
     "metadata": {},
     "output_type": "execute_result"
    }
   ],
   "source": [
    "myNewFile"
   ]
  },
  {
   "cell_type": "code",
   "execution_count": 28,
   "id": "0b53876b-8f24-40c6-8545-bc4951a66bc6",
   "metadata": {},
   "outputs": [],
   "source": [
    "with open(\"myfile.txt\",mode=\"r\") as myFile2:\n",
    "    myContent = myFile2.read()"
   ]
  },
  {
   "cell_type": "code",
   "execution_count": 29,
   "id": "eca1ae43-e219-4295-aa37-daa56c22aab6",
   "metadata": {},
   "outputs": [
    {
     "data": {
      "text/plain": [
       "'test 4'"
      ]
     },
     "execution_count": 29,
     "metadata": {},
     "output_type": "execute_result"
    }
   ],
   "source": [
    "myContent  "
   ]
  },
  {
   "cell_type": "code",
   "execution_count": 30,
   "id": "69f98e73-e32f-43e0-8bf4-e3265cd37397",
   "metadata": {},
   "outputs": [],
   "source": [
    "# test1, tes2, test3 ü silmis. Sadece okumak icin acmıs\n",
    "\n",
    "# Bir dosyanın icini yanlıslıkla da olsa degistirmemek icin \"r\" ile acmak mantıklıdır"
   ]
  },
  {
   "cell_type": "code",
   "execution_count": 32,
   "id": "d2f09a3a-93db-4a91-a28c-a2231b78479c",
   "metadata": {},
   "outputs": [],
   "source": [
    "# Fakat biz test4 ü sonuna eklemek istiyorduk. Oysa burada komple icerigi degistirdi. Bunun yolu:"
   ]
  },
  {
   "cell_type": "markdown",
   "id": "b68102cf-d364-4898-a16b-9c48d268aa92",
   "metadata": {},
   "source": [
    "# w -> write, r->read, a->append"
   ]
  },
  {
   "cell_type": "code",
   "execution_count": 33,
   "id": "7286c15c-ac52-4ccd-b00b-e9d3756b662a",
   "metadata": {},
   "outputs": [],
   "source": [
    "with open(\"myfile.txt\",mode=\"a\") as myNewFile3:\n",
    "    myNewFile3.write(\"test 5\")"
   ]
  },
  {
   "cell_type": "code",
   "execution_count": 34,
   "id": "7ba191dc-da31-4886-813f-16b6bb5ad86c",
   "metadata": {},
   "outputs": [],
   "source": [
    "with open(\"myfile.txt\",mode=\"r\") as myNewFile4:\n",
    "    myContent = myNewFile4.read()"
   ]
  },
  {
   "cell_type": "code",
   "execution_count": 35,
   "id": "cdc2c7c6-3df8-45da-a6e2-8c3110692338",
   "metadata": {},
   "outputs": [
    {
     "data": {
      "text/plain": [
       "'test 4test 5'"
      ]
     },
     "execution_count": 35,
     "metadata": {},
     "output_type": "execute_result"
    }
   ],
   "source": [
    "myContent"
   ]
  },
  {
   "cell_type": "code",
   "execution_count": 36,
   "id": "08893ede-5955-4fdb-83c1-26fcbc370921",
   "metadata": {},
   "outputs": [],
   "source": [
    "# degisken isimlerini degistirmesek de olurdu. Ama burada görmek adına her seferinde degistirdik"
   ]
  },
  {
   "cell_type": "code",
   "execution_count": 37,
   "id": "30d93493-45a7-4744-b522-87a5b89af529",
   "metadata": {},
   "outputs": [],
   "source": [
    "# ucuna eklenince 1, 2, 3 komple gitmis oldu"
   ]
  },
  {
   "cell_type": "code",
   "execution_count": null,
   "id": "922faf5b-a80a-4659-a0a9-10a76e85602f",
   "metadata": {},
   "outputs": [],
   "source": []
  }
 ],
 "metadata": {
  "kernelspec": {
   "display_name": "Python 3 (ipykernel)",
   "language": "python",
   "name": "python3"
  },
  "language_info": {
   "codemirror_mode": {
    "name": "ipython",
    "version": 3
   },
   "file_extension": ".py",
   "mimetype": "text/x-python",
   "name": "python",
   "nbconvert_exporter": "python",
   "pygments_lexer": "ipython3",
   "version": "3.10.9"
  }
 },
 "nbformat": 4,
 "nbformat_minor": 5
}
