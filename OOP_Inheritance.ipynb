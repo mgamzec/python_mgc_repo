{
 "cells": [
  {
   "cell_type": "markdown",
   "id": "4c870be7-abf7-4378-9cdf-068f624d845b",
   "metadata": {},
   "source": [
    "# inheritance"
   ]
  },
  {
   "cell_type": "code",
   "execution_count": 1,
   "id": "97759b90-ca9b-4724-8738-f5d9b2b70f0e",
   "metadata": {},
   "outputs": [],
   "source": [
    "class Musician():\n",
    "    \n",
    "    def __init__(self,name):\n",
    "        self.name = name\n",
    "        print(\"musician class\")\n",
    "    \n",
    "    def test1(self):\n",
    "        print(\"test1\")\n",
    "        \n",
    "    def test2(self):\n",
    "        print(\"test2\")"
   ]
  },
  {
   "cell_type": "code",
   "execution_count": 2,
   "id": "c06062f7-b242-46fb-ab7a-079683674993",
   "metadata": {},
   "outputs": [
    {
     "name": "stdout",
     "output_type": "stream",
     "text": [
      "musician class\n"
     ]
    }
   ],
   "source": [
    "gamze = Musician(\"Gamze\")"
   ]
  },
  {
   "cell_type": "code",
   "execution_count": 3,
   "id": "18a6b35b-ba5c-4c09-89d2-3deb5b90d909",
   "metadata": {},
   "outputs": [
    {
     "data": {
      "text/plain": [
       "'Gamze'"
      ]
     },
     "execution_count": 3,
     "metadata": {},
     "output_type": "execute_result"
    }
   ],
   "source": [
    "gamze.name"
   ]
  },
  {
   "cell_type": "code",
   "execution_count": 4,
   "id": "2c008115-ae9a-4a7b-8619-86d1a09e13ba",
   "metadata": {},
   "outputs": [
    {
     "name": "stdout",
     "output_type": "stream",
     "text": [
      "test1\n"
     ]
    }
   ],
   "source": [
    "gamze.test1()"
   ]
  },
  {
   "cell_type": "code",
   "execution_count": 5,
   "id": "5e60bcb1-5a1c-4159-9cf2-af44b192c71e",
   "metadata": {},
   "outputs": [
    {
     "name": "stdout",
     "output_type": "stream",
     "text": [
      "test2\n"
     ]
    }
   ],
   "source": [
    "gamze.test2()"
   ]
  },
  {
   "cell_type": "code",
   "execution_count": 6,
   "id": "b2b5e690-799f-4a45-9cdd-ab608c0b160e",
   "metadata": {},
   "outputs": [],
   "source": [
    "class MusicianPlus(Musician):\n",
    "    \n",
    "    def __init__(self,name):\n",
    "        Musician.__init__(self,name)\n",
    "        print(\"musician plus\")\n",
    "        \n",
    "    def test3(self):\n",
    "        print(\"test3\")\n",
    "    \n",
    "    #override\n",
    "    def test1(self):\n",
    "        print(\"test1 test1 test1\")"
   ]
  },
  {
   "cell_type": "code",
   "execution_count": 7,
   "id": "ac3a27d7-aabc-46e7-8390-b52cd699e588",
   "metadata": {},
   "outputs": [
    {
     "name": "stdout",
     "output_type": "stream",
     "text": [
      "musician class\n",
      "musician plus\n"
     ]
    }
   ],
   "source": [
    "atlas = MusicianPlus(\"Atlas\")"
   ]
  },
  {
   "cell_type": "code",
   "execution_count": 8,
   "id": "5d2bcbf7-9cca-4db5-96fe-c28de562fe5b",
   "metadata": {},
   "outputs": [
    {
     "name": "stdout",
     "output_type": "stream",
     "text": [
      "test1 test1 test1\n"
     ]
    }
   ],
   "source": [
    "atlas.test1()"
   ]
  },
  {
   "cell_type": "code",
   "execution_count": 9,
   "id": "9b596db3-4d93-44fb-9ff0-57bee0aa5123",
   "metadata": {},
   "outputs": [
    {
     "name": "stdout",
     "output_type": "stream",
     "text": [
      "test2\n"
     ]
    }
   ],
   "source": [
    "atlas.test2()"
   ]
  },
  {
   "cell_type": "code",
   "execution_count": 10,
   "id": "4c06c394-c5aa-4078-8f0c-d37b37560bda",
   "metadata": {},
   "outputs": [],
   "source": [
    "atlas.name = \"Atlas Hero\""
   ]
  },
  {
   "cell_type": "code",
   "execution_count": 11,
   "id": "114ecec7-8c4d-4f93-b069-0d8079395ba0",
   "metadata": {},
   "outputs": [
    {
     "data": {
      "text/plain": [
       "__main__.MusicianPlus"
      ]
     },
     "execution_count": 11,
     "metadata": {},
     "output_type": "execute_result"
    }
   ],
   "source": [
    "type(atlas)"
   ]
  },
  {
   "cell_type": "code",
   "execution_count": 12,
   "id": "056a6291-eb5a-41a7-aa73-91bb18621a1e",
   "metadata": {},
   "outputs": [
    {
     "name": "stdout",
     "output_type": "stream",
     "text": [
      "test3\n"
     ]
    }
   ],
   "source": [
    "atlas.test3()"
   ]
  },
  {
   "cell_type": "code",
   "execution_count": 13,
   "id": "a77f9618-e51d-4350-9c32-f8d466316951",
   "metadata": {},
   "outputs": [
    {
     "data": {
      "text/plain": [
       "__main__.Musician"
      ]
     },
     "execution_count": 13,
     "metadata": {},
     "output_type": "execute_result"
    }
   ],
   "source": [
    "type(gamze)"
   ]
  },
  {
   "cell_type": "code",
   "execution_count": 15,
   "id": "fefa1bd8-eaf5-43d7-aa4c-6d20cfe167bf",
   "metadata": {},
   "outputs": [
    {
     "name": "stdout",
     "output_type": "stream",
     "text": [
      "test1\n"
     ]
    }
   ],
   "source": [
    "gamze.test1()"
   ]
  },
  {
   "cell_type": "code",
   "execution_count": null,
   "id": "d78118c5-6bca-490f-8fc6-d2936aecd3eb",
   "metadata": {},
   "outputs": [],
   "source": []
  }
 ],
 "metadata": {
  "kernelspec": {
   "display_name": "Python 3 (ipykernel)",
   "language": "python",
   "name": "python3"
  },
  "language_info": {
   "codemirror_mode": {
    "name": "ipython",
    "version": 3
   },
   "file_extension": ".py",
   "mimetype": "text/x-python",
   "name": "python",
   "nbconvert_exporter": "python",
   "pygments_lexer": "ipython3",
   "version": "3.10.9"
  }
 },
 "nbformat": 4,
 "nbformat_minor": 5
}
