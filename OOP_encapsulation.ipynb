{
 "cells": [
  {
   "cell_type": "markdown",
   "id": "50a0d027-ddd0-4848-b8f5-16e7d13f645b",
   "metadata": {},
   "source": [
    "# encapsulation"
   ]
  },
  {
   "cell_type": "code",
   "execution_count": 1,
   "id": "2c64b28c-d388-4a3d-9ba6-ffc25ff0b3f3",
   "metadata": {},
   "outputs": [],
   "source": [
    "class Phone():\n",
    "    \n",
    "    def __init__(self,name,price):\n",
    "        self.name = name\n",
    "        self.__price = price\n",
    "    \n",
    "    def info(self):\n",
    "        print(f\"{self.name} price is: {self.__price}\")\n",
    "        \n",
    "    def changePrice(self,price):\n",
    "        self.__price = price"
   ]
  },
  {
   "cell_type": "code",
   "execution_count": 2,
   "id": "0a3b3501-074f-4ab9-a508-8c77473e5b57",
   "metadata": {},
   "outputs": [],
   "source": [
    "iphone = Phone(\"iPhone 14\",500)"
   ]
  },
  {
   "cell_type": "code",
   "execution_count": 3,
   "id": "e232b7e1-f6fa-45a7-8582-781ad17d8f7e",
   "metadata": {},
   "outputs": [
    {
     "name": "stdout",
     "output_type": "stream",
     "text": [
      "iPhone 14 price is: 500\n"
     ]
    }
   ],
   "source": [
    "iphone.info()"
   ]
  },
  {
   "cell_type": "code",
   "execution_count": 4,
   "id": "49f04383-7a4e-495d-81a1-5dcef634368b",
   "metadata": {},
   "outputs": [],
   "source": [
    "iphone.__price = 400"
   ]
  },
  {
   "cell_type": "code",
   "execution_count": 5,
   "id": "5a80860c-cda8-4273-92cc-1a0f341f0be9",
   "metadata": {},
   "outputs": [
    {
     "name": "stdout",
     "output_type": "stream",
     "text": [
      "iPhone 14 price is: 500\n"
     ]
    }
   ],
   "source": [
    "iphone.info()"
   ]
  },
  {
   "cell_type": "code",
   "execution_count": 6,
   "id": "22f77935-8c1e-440c-a261-c21e09898f29",
   "metadata": {},
   "outputs": [],
   "source": [
    "iphone.changePrice(300)"
   ]
  },
  {
   "cell_type": "code",
   "execution_count": 7,
   "id": "b427ea3b-39fd-47c7-bb2d-53a1a58f2b80",
   "metadata": {},
   "outputs": [
    {
     "name": "stdout",
     "output_type": "stream",
     "text": [
      "iPhone 14 price is: 300\n"
     ]
    }
   ],
   "source": [
    "iphone.info()"
   ]
  },
  {
   "cell_type": "code",
   "execution_count": null,
   "id": "ca5954ac-1ad8-481f-bf4c-af3e8e868836",
   "metadata": {},
   "outputs": [],
   "source": []
  }
 ],
 "metadata": {
  "kernelspec": {
   "display_name": "Python 3 (ipykernel)",
   "language": "python",
   "name": "python3"
  },
  "language_info": {
   "codemirror_mode": {
    "name": "ipython",
    "version": 3
   },
   "file_extension": ".py",
   "mimetype": "text/x-python",
   "name": "python",
   "nbconvert_exporter": "python",
   "pygments_lexer": "ipython3",
   "version": "3.10.9"
  }
 },
 "nbformat": 4,
 "nbformat_minor": 5
}
