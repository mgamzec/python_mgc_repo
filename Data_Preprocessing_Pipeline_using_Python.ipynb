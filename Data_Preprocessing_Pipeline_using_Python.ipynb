{
  "nbformat": 4,
  "nbformat_minor": 0,
  "metadata": {
    "colab": {
      "provenance": [],
      "authorship_tag": "ABX9TyMb/e1zy0mZrF1BRChPLSzK",
      "include_colab_link": true
    },
    "kernelspec": {
      "name": "python3",
      "display_name": "Python 3"
    },
    "language_info": {
      "name": "python"
    }
  },
  "cells": [
    {
      "cell_type": "markdown",
      "metadata": {
        "id": "view-in-github",
        "colab_type": "text"
      },
      "source": [
        "<a href=\"https://colab.research.google.com/github/mgamzec/python_mgc_repo/blob/main/Data_Preprocessing_Pipeline_using_Python.ipynb\" target=\"_parent\"><img src=\"https://colab.research.google.com/assets/colab-badge.svg\" alt=\"Open In Colab\"/></a>"
      ]
    },
    {
      "cell_type": "markdown",
      "source": [
        "## What is a Data Preprocessing Pipeline?\n",
        "Data Preprocessing involves transforming and manipulating raw data to improve its quality, consistency, and relevance for analysis. It encompasses several tasks, including handling missing values, standardizing variables, and removing outliers. By performing these preprocessing steps, data professionals ensure that subsequent analysis is based on reliable and accurate data, leading to better insights and predictions.\n",
        "\n",
        "A data preprocessing pipeline is a systematic and automated approach that combines multiple preprocessing steps into a cohesive workflow. It serves as a roadmap for data professionals, guiding them through the transformations and calculations needed to cleanse and prepare data for analysis. The pipeline consists of interconnected steps, each of which is responsible for a specific preprocessing task, such as:\n",
        "\n",
        "- imputing missing values\n",
        "- scaling numeric features\n",
        "- finding and removing outliers\n",
        "- or encoding categorical variables\n",
        "\n",
        "By following the predefined sequence of operations, the pipeline ensures consistency, reproducibility, and efficiency in overall preprocessing steps."
      ],
      "metadata": {
        "id": "wkXgHGRDYSzW"
      }
    },
    {
      "cell_type": "code",
      "source": [
        "import pandas as pd\n",
        "import numpy as np\n",
        "from sklearn.preprocessing import StandardScaler\n",
        "\n",
        "def data_preprocessing_pipeline(data):\n",
        "    #Identify numeric and categorical features\n",
        "    numeric_features = data.select_dtypes(include=['float', 'int']).columns\n",
        "    categorical_features = data.select_dtypes(include=['object']).columns\n",
        "\n",
        "    #Handle missing values in numeric features\n",
        "    data[numeric_features] = data[numeric_features].fillna(data[numeric_features].mean())\n",
        "\n",
        "    #Detect and handle outliers in numeric features using IQR\n",
        "    for feature in numeric_features:\n",
        "        Q1 = data[feature].quantile(0.25)\n",
        "        Q3 = data[feature].quantile(0.75)\n",
        "        IQR = Q3 - Q1\n",
        "        lower_bound = Q1 - (1.5 * IQR)\n",
        "        upper_bound = Q3 + (1.5 * IQR)\n",
        "        data[feature] = np.where((data[feature] < lower_bound) | (data[feature] > upper_bound),\n",
        "                                 data[feature].mean(), data[feature])\n",
        "\n",
        "    #Normalize numeric features\n",
        "    scaler = StandardScaler()\n",
        "    scaled_data = scaler.fit_transform(data[numeric_features])\n",
        "    data[numeric_features] = scaler.transform(data[numeric_features])\n",
        "\n",
        "    #Handle missing values in categorical features\n",
        "    data[categorical_features] = data[categorical_features].fillna(data[categorical_features].mode().iloc[0])\n",
        "\n",
        "    return data"
      ],
      "metadata": {
        "id": "sl-2XBrPYPei"
      },
      "execution_count": 1,
      "outputs": []
    },
    {
      "cell_type": "markdown",
      "source": [
        "1. The pipeline begins by identifying the numeric and categorical features in the dataset.\n",
        "\n",
        "2. Next, the pipeline addresses any missing values present in the numeric features. It fills these missing values with the mean value of each respective numeric feature (you can modify this step according to your desired way of filling in missing values of a numerical feature). It ensures that missing data does not hinder subsequent analysis and computations.\n",
        "\n",
        "3. The pipeline then identifies and handles outliers within the numeric features using the Interquartile Range (IQR) method. Calculating the quartiles and the IQR determines upper and lower boundaries for outliers. Any values outside these boundaries are replaced with the mean value of the respective numeric feature. This step helps prevent the influence of extreme values on subsequent analyses and model building.\n",
        "\n",
        "4. After handling missing values and outliers, the pipeline normalizes the numeric features. This process ensures that all numeric features contribute equally to subsequent analysis, avoiding biases caused by varying magnitudes.\n",
        "\n",
        "5. The pipeline proceeds to handle missing values in the categorical features. It fills these missing values with the mode value, representing the most frequently occurring category.\n",
        "\n",
        "By following this pipeline, data professionals can automate and streamline the process of preparing data for analysis, ensuring data quality, reliability, and consistency."
      ],
      "metadata": {
        "id": "XeL0Eq_hZAiq"
      }
    },
    {
      "cell_type": "code",
      "source": [
        "data = pd.read_csv(\"data.csv\")\n",
        "\n",
        "print(\"Original Data:\")\n",
        "print(data)"
      ],
      "metadata": {
        "colab": {
          "base_uri": "https://localhost:8080/"
        },
        "id": "8oZsazD5Zp1Z",
        "outputId": "fe28868c-9f46-4efb-d258-42fc1e63b241"
      },
      "execution_count": 2,
      "outputs": [
        {
          "output_type": "stream",
          "name": "stdout",
          "text": [
            "Original Data:\n",
            "   NumericFeature1  NumericFeature2 CategoricalFeature\n",
            "0              1.0                7                  A\n",
            "1              2.0                8                  B\n",
            "2              NaN                9                NaN\n",
            "3              4.0               10                  A\n",
            "4              5.0               11                  B\n",
            "5              6.0               50                  C\n"
          ]
        }
      ]
    },
    {
      "cell_type": "markdown",
      "source": [
        "And here’s how you can use this pipeline to perform all the preprocessing steps using Python:"
      ],
      "metadata": {
        "id": "UWOyuM2NZyOL"
      }
    },
    {
      "cell_type": "code",
      "source": [
        "#Perform data preprocessing\n",
        "cleaned_data = data_preprocessing_pipeline(data)\n",
        "\n",
        "print(\"Preprocessed Data:\")\n",
        "print(cleaned_data)"
      ],
      "metadata": {
        "colab": {
          "base_uri": "https://localhost:8080/"
        },
        "id": "r0lXsiLcZy6U",
        "outputId": "c89feb92-8b02-4b0d-ce4a-0f2c16d3f8e1"
      },
      "execution_count": 3,
      "outputs": [
        {
          "output_type": "stream",
          "name": "stdout",
          "text": [
            "Preprocessed Data:\n",
            "   NumericFeature1  NumericFeature2 CategoricalFeature\n",
            "0        -1.535624        -1.099370                  A\n",
            "1        -0.944999        -0.749128                  B\n",
            "2         0.000000        -0.398886                  A\n",
            "3         0.236250        -0.048645                  A\n",
            "4         0.826874         0.301597                  B\n",
            "5         1.417499         1.994431                  C\n"
          ]
        }
      ]
    }
  ]
}