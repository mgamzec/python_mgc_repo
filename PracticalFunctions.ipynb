{
 "cells": [
  {
   "cell_type": "code",
   "execution_count": 1,
   "id": "d5644da7-eff4-4497-b314-ca073d99227a",
   "metadata": {},
   "outputs": [],
   "source": [
    "def divideNumber(number):\n",
    "    return number / 2"
   ]
  },
  {
   "cell_type": "code",
   "execution_count": 2,
   "id": "2f09890c-2128-4260-bc8b-4209496396f9",
   "metadata": {},
   "outputs": [
    {
     "data": {
      "text/plain": [
       "10.0"
      ]
     },
     "execution_count": 2,
     "metadata": {},
     "output_type": "execute_result"
    }
   ],
   "source": [
    "divideNumber(20)"
   ]
  },
  {
   "cell_type": "code",
   "execution_count": 3,
   "id": "99d213e2-5b8e-411e-810e-8c1d9aa95e7f",
   "metadata": {},
   "outputs": [],
   "source": [
    "myList = [3,5,7,10,20,30]"
   ]
  },
  {
   "cell_type": "code",
   "execution_count": 4,
   "id": "e37b55ee-2b1a-4719-8929-0f6b6906ca1a",
   "metadata": {},
   "outputs": [
    {
     "name": "stdout",
     "output_type": "stream",
     "text": [
      "[1.5, 2.5, 3.5, 5.0, 10.0, 15.0]\n"
     ]
    }
   ],
   "source": [
    "myResultList = []\n",
    "for num in myList:\n",
    "    myResultList.append(divideNumber(num))\n",
    "print(myResultList)"
   ]
  },
  {
   "cell_type": "markdown",
   "id": "f508dbc7-70f7-46c8-a69b-f1cc17066a2e",
   "metadata": {},
   "source": [
    "# **map**"
   ]
  },
  {
   "cell_type": "code",
   "execution_count": 5,
   "id": "ef3eae11-23ad-429d-9423-cd8a6cbd48f4",
   "metadata": {},
   "outputs": [
    {
     "name": "stdout",
     "output_type": "stream",
     "text": [
      "Help on class map in module builtins:\n",
      "\n",
      "class map(object)\n",
      " |  map(func, *iterables) --> map object\n",
      " |  \n",
      " |  Make an iterator that computes the function using arguments from\n",
      " |  each of the iterables.  Stops when the shortest iterable is exhausted.\n",
      " |  \n",
      " |  Methods defined here:\n",
      " |  \n",
      " |  __getattribute__(self, name, /)\n",
      " |      Return getattr(self, name).\n",
      " |  \n",
      " |  __iter__(self, /)\n",
      " |      Implement iter(self).\n",
      " |  \n",
      " |  __next__(self, /)\n",
      " |      Implement next(self).\n",
      " |  \n",
      " |  __reduce__(...)\n",
      " |      Return state information for pickling.\n",
      " |  \n",
      " |  ----------------------------------------------------------------------\n",
      " |  Static methods defined here:\n",
      " |  \n",
      " |  __new__(*args, **kwargs) from builtins.type\n",
      " |      Create and return a new object.  See help(type) for accurate signature.\n",
      "\n"
     ]
    }
   ],
   "source": [
    "help(map)"
   ]
  },
  {
   "cell_type": "code",
   "execution_count": 6,
   "id": "d548bdc7-14e6-45f9-82d8-ecab018a62e2",
   "metadata": {},
   "outputs": [],
   "source": [
    "# iterables--> üzerinde gezinebildigimiz koleksiyonlar"
   ]
  },
  {
   "cell_type": "code",
   "execution_count": 7,
   "id": "90207a1e-1218-4b3b-b3a7-e81ff89e7528",
   "metadata": {},
   "outputs": [
    {
     "data": {
      "text/plain": [
       "<map at 0x2989bfa0580>"
      ]
     },
     "execution_count": 7,
     "metadata": {},
     "output_type": "execute_result"
    }
   ],
   "source": [
    "map(divideNumber, myList)"
   ]
  },
  {
   "cell_type": "code",
   "execution_count": 9,
   "id": "161e3aef-765a-4f0f-bf19-d0ffac007039",
   "metadata": {},
   "outputs": [],
   "source": [
    "# map sayesinde, myList içindeki tüm elemanlara teker teker divideNumber uygulanıyor\n",
    "# fakat şu an sadece bir ID ile depolanmıs durumda. Bunu örnegin bir liste seklinde gösterelim"
   ]
  },
  {
   "cell_type": "code",
   "execution_count": 10,
   "id": "4e9c9243-e026-47c6-a5c9-fac5e4c16640",
   "metadata": {},
   "outputs": [
    {
     "data": {
      "text/plain": [
       "[1.5, 2.5, 3.5, 5.0, 10.0, 15.0]"
      ]
     },
     "execution_count": 10,
     "metadata": {},
     "output_type": "execute_result"
    }
   ],
   "source": [
    "list(map(divideNumber, myList))"
   ]
  },
  {
   "cell_type": "code",
   "execution_count": 11,
   "id": "d6468a51-329c-4337-8b4d-d907f9821aa9",
   "metadata": {},
   "outputs": [],
   "source": [
    "# yukarıdaki islemle birebir aynı sonucu aldık"
   ]
  },
  {
   "cell_type": "code",
   "execution_count": 12,
   "id": "6bf64ed1-6e0a-4fab-a33c-07c37360f9ee",
   "metadata": {},
   "outputs": [],
   "source": [
    "def controlString(string):\n",
    "    return \"Gamze\" in string"
   ]
  },
  {
   "cell_type": "code",
   "execution_count": 13,
   "id": "bf58627b-1c1e-428f-b455-7b6766aa2625",
   "metadata": {},
   "outputs": [
    {
     "data": {
      "text/plain": [
       "True"
      ]
     },
     "execution_count": 13,
     "metadata": {},
     "output_type": "execute_result"
    }
   ],
   "source": [
    "controlString(\"Merve Gamze\")"
   ]
  },
  {
   "cell_type": "code",
   "execution_count": 14,
   "id": "9d928154-f032-4b52-b378-9dba33da5e3e",
   "metadata": {},
   "outputs": [
    {
     "data": {
      "text/plain": [
       "False"
      ]
     },
     "execution_count": 14,
     "metadata": {},
     "output_type": "execute_result"
    }
   ],
   "source": [
    "controlString(\"Cinar\")"
   ]
  },
  {
   "cell_type": "code",
   "execution_count": 15,
   "id": "a7978ab6-6d1b-4c7a-998a-85f6ec26919d",
   "metadata": {},
   "outputs": [],
   "source": [
    "myStringList = [\"Gamze\", \"Merve\", \"Cinar\"]"
   ]
  },
  {
   "cell_type": "code",
   "execution_count": 16,
   "id": "f41949db-e079-4c85-a80a-47d214ba5dac",
   "metadata": {},
   "outputs": [
    {
     "data": {
      "text/plain": [
       "[True, False, False]"
      ]
     },
     "execution_count": 16,
     "metadata": {},
     "output_type": "execute_result"
    }
   ],
   "source": [
    "list(map(controlString, myStringList))"
   ]
  },
  {
   "cell_type": "markdown",
   "id": "5e6d5a1f-2b2a-4649-9242-afdc10be8bb0",
   "metadata": {},
   "source": [
    "# **filter**"
   ]
  },
  {
   "cell_type": "code",
   "execution_count": 17,
   "id": "b77f3f2a-dbde-44df-8b88-7bdc8b7fc4ac",
   "metadata": {},
   "outputs": [
    {
     "data": {
      "text/plain": [
       "['Gamze']"
      ]
     },
     "execution_count": 17,
     "metadata": {},
     "output_type": "execute_result"
    }
   ],
   "source": [
    "list(filter(controlString, myStringList))"
   ]
  },
  {
   "cell_type": "markdown",
   "id": "9b40156c-9ba5-480f-b8c4-528fc4658cd3",
   "metadata": {},
   "source": [
    "# **lambda**"
   ]
  },
  {
   "cell_type": "code",
   "execution_count": 18,
   "id": "9e891834-5a14-42c5-9d2f-ca1a6c2e7d32",
   "metadata": {},
   "outputs": [],
   "source": [
    "multiplyLambda = lambda num: num * 3"
   ]
  },
  {
   "cell_type": "code",
   "execution_count": 19,
   "id": "9dfd894a-79b6-4230-b9bb-9621b03891ee",
   "metadata": {},
   "outputs": [
    {
     "data": {
      "text/plain": [
       "function"
      ]
     },
     "execution_count": 19,
     "metadata": {},
     "output_type": "execute_result"
    }
   ],
   "source": [
    "type(multiplyLambda)"
   ]
  },
  {
   "cell_type": "code",
   "execution_count": 20,
   "id": "be2a0671-c592-4298-8ea7-156be74e2c8b",
   "metadata": {},
   "outputs": [
    {
     "data": {
      "text/plain": [
       "60"
      ]
     },
     "execution_count": 20,
     "metadata": {},
     "output_type": "execute_result"
    }
   ],
   "source": [
    "multiplyLambda(20)"
   ]
  },
  {
   "cell_type": "code",
   "execution_count": 23,
   "id": "7980b5fd-96eb-4995-ada5-39b33abce34e",
   "metadata": {},
   "outputs": [],
   "source": [
    "result = multiplyLambda(20)"
   ]
  },
  {
   "cell_type": "code",
   "execution_count": 24,
   "id": "54d2dce1-fc99-4af4-b8bb-73255607ebb9",
   "metadata": {},
   "outputs": [
    {
     "data": {
      "text/plain": [
       "60"
      ]
     },
     "execution_count": 24,
     "metadata": {},
     "output_type": "execute_result"
    }
   ],
   "source": [
    "result"
   ]
  },
  {
   "cell_type": "code",
   "execution_count": 25,
   "id": "2d7fccfa-a7ab-4d7f-a27d-08f65c1d0c6c",
   "metadata": {},
   "outputs": [],
   "source": [
    "numList = [10,20,30,40]"
   ]
  },
  {
   "cell_type": "code",
   "execution_count": 26,
   "id": "5ad30582-322b-4024-9501-5994495c4794",
   "metadata": {},
   "outputs": [],
   "source": [
    "# Bu listeyi 4 ile çarpmak istiyoruz ama bir daha bunu kullanmak istemiyoruz. O zaman lambda kullanırız"
   ]
  },
  {
   "cell_type": "code",
   "execution_count": 27,
   "id": "b0b6dbf9-d193-47bf-8d1b-dedfd287f647",
   "metadata": {},
   "outputs": [
    {
     "data": {
      "text/plain": [
       "[2.5, 5.0, 7.5, 10.0]"
      ]
     },
     "execution_count": 27,
     "metadata": {},
     "output_type": "execute_result"
    }
   ],
   "source": [
    "list(map(lambda num:num/4, numList))"
   ]
  },
  {
   "cell_type": "markdown",
   "id": "685b8f37-6f5c-4414-935a-7f6da12f1e37",
   "metadata": {},
   "source": []
  },
  {
   "cell_type": "markdown",
   "id": "4c84e53f-4a33-4e6c-b4f2-059f696747fd",
   "metadata": {},
   "source": [
    "# **scope**"
   ]
  },
  {
   "cell_type": "code",
   "execution_count": 32,
   "id": "4d3e1341-f283-4ac2-b984-c5a8eab0f675",
   "metadata": {},
   "outputs": [],
   "source": [
    "x = 20\n",
    "def multiply(num):\n",
    "    x = 5\n",
    "    return num*x"
   ]
  },
  {
   "cell_type": "code",
   "execution_count": 33,
   "id": "5490097e-e9b5-4ddd-bea6-eccb92b617b9",
   "metadata": {},
   "outputs": [
    {
     "data": {
      "text/plain": [
       "50"
      ]
     },
     "execution_count": 33,
     "metadata": {},
     "output_type": "execute_result"
    }
   ],
   "source": [
    "multiply(10)"
   ]
  },
  {
   "cell_type": "code",
   "execution_count": 34,
   "id": "3944d903-2574-4f5c-935d-9a4f47f8fc72",
   "metadata": {},
   "outputs": [
    {
     "name": "stdout",
     "output_type": "stream",
     "text": [
      "20\n"
     ]
    }
   ],
   "source": [
    "print(x)"
   ]
  },
  {
   "cell_type": "code",
   "execution_count": 35,
   "id": "b0fe6bd5-c702-4e8f-8b6c-82e061c1b5b2",
   "metadata": {},
   "outputs": [],
   "source": [
    "# x i en son 5 yapmıstık ama yazdırınca 20 i verdi? x neden hala 20?\n",
    "# üstteki x ile alttaki x farklı seyler. Çünkü farklı kapsama yani scope dısındalar"
   ]
  },
  {
   "cell_type": "markdown",
   "id": "207af0e8-f81d-4ea2-a62b-85f69240d609",
   "metadata": {},
   "source": [
    "# LEGM:L-->local, E-->Enclosing, G-->Global, B-->Built-in"
   ]
  },
  {
   "cell_type": "code",
   "execution_count": 41,
   "id": "ae391419-71ae-4986-b20c-05adab60fe9c",
   "metadata": {},
   "outputs": [],
   "source": [
    "#Global\n",
    "myString = \"Gamze\"\n",
    "\n",
    "def myFunction():\n",
    "    # Enclosing\n",
    "    myString = \"Gamze 2\"\n",
    "    \n",
    "    def myFunction2():\n",
    "        # Local\n",
    "        myString = \"Gamze 3\"  # bu myString i tanımlamasaydık Gamze 2 cıktı alınırdı. Bir üstteki\n",
    "        print(myString)\n",
    "        \n",
    "    myFunction2()"
   ]
  },
  {
   "cell_type": "code",
   "execution_count": 42,
   "id": "ed1ab681-5717-40b9-90cf-9e5b9f378d76",
   "metadata": {},
   "outputs": [
    {
     "data": {
      "text/plain": [
       "'Gamze'"
      ]
     },
     "execution_count": 42,
     "metadata": {},
     "output_type": "execute_result"
    }
   ],
   "source": [
    "myString"
   ]
  },
  {
   "cell_type": "code",
   "execution_count": 43,
   "id": "66f0fbbc-5cd1-4e67-8e1d-45238b4c1ec2",
   "metadata": {},
   "outputs": [
    {
     "name": "stdout",
     "output_type": "stream",
     "text": [
      "Gamze 3\n"
     ]
    }
   ],
   "source": [
    "myFunction()    "
   ]
  },
  {
   "cell_type": "code",
   "execution_count": 44,
   "id": "c8314cee-ec25-4196-8bc6-f7b5a461533a",
   "metadata": {},
   "outputs": [],
   "source": [
    "# myFunction ın tek yaptogı, myString i tanımlamak"
   ]
  },
  {
   "cell_type": "code",
   "execution_count": 45,
   "id": "2097f9ac-5279-4759-9ee9-e1fb32d01ba9",
   "metadata": {},
   "outputs": [
    {
     "data": {
      "text/plain": [
       "'Gamze'"
      ]
     },
     "execution_count": 45,
     "metadata": {},
     "output_type": "execute_result"
    }
   ],
   "source": [
    "myString"
   ]
  },
  {
   "cell_type": "code",
   "execution_count": null,
   "id": "7ce1ac34-dea3-45b9-a211-ccf0104a459a",
   "metadata": {},
   "outputs": [],
   "source": [
    "# görüldügü üzere myString hep Gamze"
   ]
  }
 ],
 "metadata": {
  "kernelspec": {
   "display_name": "Python 3 (ipykernel)",
   "language": "python",
   "name": "python3"
  },
  "language_info": {
   "codemirror_mode": {
    "name": "ipython",
    "version": 3
   },
   "file_extension": ".py",
   "mimetype": "text/x-python",
   "name": "python",
   "nbconvert_exporter": "python",
   "pygments_lexer": "ipython3",
   "version": "3.10.9"
  }
 },
 "nbformat": 4,
 "nbformat_minor": 5
}
