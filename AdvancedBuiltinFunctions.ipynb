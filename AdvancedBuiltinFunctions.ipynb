{
 "cells": [
  {
   "cell_type": "code",
   "execution_count": 1,
   "id": "4c6c3677-3e41-421b-8da4-65604498606c",
   "metadata": {},
   "outputs": [],
   "source": [
    "my_list = [10, 20, 30, 40]"
   ]
  },
  {
   "cell_type": "code",
   "execution_count": 2,
   "id": "3d44d9f9-53ad-4134-b71c-cc5b3908536e",
   "metadata": {},
   "outputs": [
    {
     "name": "stdout",
     "output_type": "stream",
     "text": [
      "10\n",
      "20\n",
      "30\n",
      "40\n"
     ]
    }
   ],
   "source": [
    "for num in my_list:\n",
    "    print(num)"
   ]
  },
  {
   "cell_type": "code",
   "execution_count": 4,
   "id": "f7e2b797-6d18-45ff-ada4-3853671492a8",
   "metadata": {},
   "outputs": [
    {
     "name": "stdout",
     "output_type": "stream",
     "text": [
      "0\n",
      "1\n",
      "2\n",
      "3\n"
     ]
    }
   ],
   "source": [
    "for ix in range(len(my_list)):\n",
    "    print(ix)"
   ]
  },
  {
   "cell_type": "code",
   "execution_count": 5,
   "id": "62722450-c8f4-4327-9ad3-26a3137529a9",
   "metadata": {},
   "outputs": [
    {
     "name": "stdout",
     "output_type": "stream",
     "text": [
      "10\n",
      "20\n",
      "30\n",
      "40\n"
     ]
    }
   ],
   "source": [
    "for ix in range(len(my_list)):\n",
    "    print(my_list[ix])"
   ]
  },
  {
   "cell_type": "code",
   "execution_count": 6,
   "id": "cbce3277-46be-4faa-a0c2-2ccadf6f2c6a",
   "metadata": {},
   "outputs": [
    {
     "name": "stdout",
     "output_type": "stream",
     "text": [
      "(0, 10)\n",
      "(1, 20)\n",
      "(2, 30)\n",
      "(3, 40)\n"
     ]
    }
   ],
   "source": [
    "## Enumerate\n",
    "\n",
    "for element in enumerate(my_list):\n",
    "    print(element)"
   ]
  },
  {
   "cell_type": "code",
   "execution_count": 8,
   "id": "68937dc5-6fdd-4b66-865c-7ffcc26fac03",
   "metadata": {},
   "outputs": [
    {
     "name": "stdout",
     "output_type": "stream",
     "text": [
      "10\n",
      "20\n",
      "30\n",
      "40\n"
     ]
    }
   ],
   "source": [
    "for (ix, value) in enumerate(my_list):  # tuple unpacking\n",
    "    print(value)"
   ]
  },
  {
   "cell_type": "code",
   "execution_count": 9,
   "id": "38c0d3b2-7cca-465a-a54a-37249cee42ff",
   "metadata": {},
   "outputs": [
    {
     "name": "stdout",
     "output_type": "stream",
     "text": [
      "0\n",
      "1\n",
      "2\n",
      "3\n"
     ]
    }
   ],
   "source": [
    "for (ix, value) in enumerate(my_list):  # tuple unpacking\n",
    "    print(ix)"
   ]
  },
  {
   "cell_type": "code",
   "execution_count": 13,
   "id": "95093425-c536-4ce6-b76b-25eebdd6c724",
   "metadata": {},
   "outputs": [],
   "source": [
    "# random\n",
    "\n",
    "from random import randint"
   ]
  },
  {
   "cell_type": "code",
   "execution_count": 14,
   "id": "9174cc1d-14e1-413d-a994-42e80f1bbc0f",
   "metadata": {},
   "outputs": [
    {
     "data": {
      "text/plain": [
       "49"
      ]
     },
     "execution_count": 14,
     "metadata": {},
     "output_type": "execute_result"
    }
   ],
   "source": [
    "randint(0, 100)"
   ]
  },
  {
   "cell_type": "code",
   "execution_count": 15,
   "id": "66eaa1bc-7cc0-4495-9616-115e4f081f7e",
   "metadata": {},
   "outputs": [
    {
     "data": {
      "text/plain": [
       "0"
      ]
     },
     "execution_count": 15,
     "metadata": {},
     "output_type": "execute_result"
    }
   ],
   "source": [
    "randint(0, 100)"
   ]
  },
  {
   "cell_type": "code",
   "execution_count": 16,
   "id": "2883a73a-86c4-47ca-8a19-63b1f0c6d8fe",
   "metadata": {},
   "outputs": [
    {
     "data": {
      "text/plain": [
       "76"
      ]
     },
     "execution_count": 16,
     "metadata": {},
     "output_type": "execute_result"
    }
   ],
   "source": [
    "randint(0, 100)"
   ]
  },
  {
   "cell_type": "code",
   "execution_count": 17,
   "id": "881fa71b-3bb0-4895-8eea-7077abc8560a",
   "metadata": {},
   "outputs": [],
   "source": [
    "from random import shuffle"
   ]
  },
  {
   "cell_type": "code",
   "execution_count": 18,
   "id": "f66aca9e-6eb7-485e-a81c-8758cfd9a5fa",
   "metadata": {},
   "outputs": [
    {
     "data": {
      "text/plain": [
       "[10, 20, 30, 40]"
      ]
     },
     "execution_count": 18,
     "metadata": {},
     "output_type": "execute_result"
    }
   ],
   "source": [
    "my_list"
   ]
  },
  {
   "cell_type": "code",
   "execution_count": 19,
   "id": "f7c4beaf-bf16-4ab4-84d3-191568157e10",
   "metadata": {},
   "outputs": [],
   "source": [
    "shuffle(my_list)"
   ]
  },
  {
   "cell_type": "code",
   "execution_count": 20,
   "id": "45fe130a-af32-4759-93f3-f145c50fb4b4",
   "metadata": {},
   "outputs": [
    {
     "data": {
      "text/plain": [
       "[30, 40, 20, 10]"
      ]
     },
     "execution_count": 20,
     "metadata": {},
     "output_type": "execute_result"
    }
   ],
   "source": [
    "my_list"
   ]
  },
  {
   "cell_type": "code",
   "execution_count": 21,
   "id": "62543d76-4976-48aa-81d9-20346ee81710",
   "metadata": {},
   "outputs": [
    {
     "data": {
      "text/plain": [
       "0"
      ]
     },
     "execution_count": 21,
     "metadata": {},
     "output_type": "execute_result"
    }
   ],
   "source": [
    "randint(0, len(my_list))"
   ]
  },
  {
   "cell_type": "code",
   "execution_count": 25,
   "id": "5a1d04a9-2ef5-40b2-a032-da24ce5d93cb",
   "metadata": {},
   "outputs": [
    {
     "data": {
      "text/plain": [
       "20"
      ]
     },
     "execution_count": 25,
     "metadata": {},
     "output_type": "execute_result"
    }
   ],
   "source": [
    "my_list[randint(0, len(my_list)-1)]"
   ]
  },
  {
   "cell_type": "code",
   "execution_count": null,
   "id": "26b26da2-5fc1-4d79-9963-8a6bcdbe75bb",
   "metadata": {},
   "outputs": [],
   "source": [
    "# zip"
   ]
  },
  {
   "cell_type": "code",
   "execution_count": 26,
   "id": "5b71fd9d-0d10-4e31-8b45-35501e1bd4f9",
   "metadata": {},
   "outputs": [],
   "source": [
    "food_list = ['apple', 'banana', 'melon']"
   ]
  },
  {
   "cell_type": "code",
   "execution_count": 27,
   "id": "d8a12213-97af-4232-ad8b-a8d94c33eee2",
   "metadata": {},
   "outputs": [],
   "source": [
    "calories_list = ['100', '200', '300']"
   ]
  },
  {
   "cell_type": "code",
   "execution_count": 28,
   "id": "257f066c-dc5c-4779-9644-adcb7ef88d45",
   "metadata": {},
   "outputs": [],
   "source": [
    "zipped_list = list(zip(food_list, calories_list))"
   ]
  },
  {
   "cell_type": "code",
   "execution_count": 29,
   "id": "2ff1b10b-a571-4d8f-ac9f-d9ae0071925d",
   "metadata": {},
   "outputs": [
    {
     "data": {
      "text/plain": [
       "list"
      ]
     },
     "execution_count": 29,
     "metadata": {},
     "output_type": "execute_result"
    }
   ],
   "source": [
    "type(zipped_list)"
   ]
  },
  {
   "cell_type": "code",
   "execution_count": 30,
   "id": "c1f0f8bb-41de-44e0-855a-d378a57e4111",
   "metadata": {},
   "outputs": [
    {
     "data": {
      "text/plain": [
       "[('apple', '100'), ('banana', '200'), ('melon', '300')]"
      ]
     },
     "execution_count": 30,
     "metadata": {},
     "output_type": "execute_result"
    }
   ],
   "source": [
    "zipped_list"
   ]
  },
  {
   "cell_type": "code",
   "execution_count": null,
   "id": "24d5e94e-f767-40fd-89dc-5c74c73056ed",
   "metadata": {},
   "outputs": [],
   "source": [
    "# list comprehension"
   ]
  },
  {
   "cell_type": "code",
   "execution_count": 32,
   "id": "8d51c7a6-d1fd-427e-804e-f27fd3c868f7",
   "metadata": {},
   "outputs": [],
   "source": [
    "new_list = []\n",
    "my_string = \"metallica\"\n",
    "\n",
    "for element in my_string:\n",
    "    new_list.append(element)    "
   ]
  },
  {
   "cell_type": "code",
   "execution_count": 33,
   "id": "13ce887b-c088-40e6-a156-5a01f6abca2f",
   "metadata": {},
   "outputs": [
    {
     "data": {
      "text/plain": [
       "['m', 'e', 't', 'a', 'l', 'l', 'i', 'c', 'a']"
      ]
     },
     "execution_count": 33,
     "metadata": {},
     "output_type": "execute_result"
    }
   ],
   "source": [
    "new_list"
   ]
  },
  {
   "cell_type": "code",
   "execution_count": 34,
   "id": "ffce5df4-c6e5-4ba9-ba68-ac1ed2959cdc",
   "metadata": {},
   "outputs": [],
   "source": [
    "new_list = [element for element in my_string]  # üstteki for loop un aynısını tek bir satırda olusturduk"
   ]
  },
  {
   "cell_type": "code",
   "execution_count": 35,
   "id": "366ab121-d8ed-4285-922c-e70aab471d7f",
   "metadata": {},
   "outputs": [
    {
     "data": {
      "text/plain": [
       "['m', 'e', 't', 'a', 'l', 'l', 'i', 'c', 'a']"
      ]
     },
     "execution_count": 35,
     "metadata": {},
     "output_type": "execute_result"
    }
   ],
   "source": [
    "new_list"
   ]
  },
  {
   "cell_type": "code",
   "execution_count": null,
   "id": "1736f5e7-dcff-4ded-94cf-887c829eaf46",
   "metadata": {},
   "outputs": [],
   "source": []
  }
 ],
 "metadata": {
  "kernelspec": {
   "display_name": "Python 3 (ipykernel)",
   "language": "python",
   "name": "python3"
  },
  "language_info": {
   "codemirror_mode": {
    "name": "ipython",
    "version": 3
   },
   "file_extension": ".py",
   "mimetype": "text/x-python",
   "name": "python",
   "nbconvert_exporter": "python",
   "pygments_lexer": "ipython3",
   "version": "3.10.9"
  }
 },
 "nbformat": 4,
 "nbformat_minor": 5
}
