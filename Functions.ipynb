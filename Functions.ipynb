{
 "cells": [
  {
   "cell_type": "code",
   "execution_count": 1,
   "id": "5c378efe-67ae-4e45-87de-e06228aa2a37",
   "metadata": {},
   "outputs": [],
   "source": [
    "# method vs function"
   ]
  },
  {
   "cell_type": "code",
   "execution_count": 2,
   "id": "6bcfec64-6d95-43a4-af66-cc68e7f6aeeb",
   "metadata": {},
   "outputs": [],
   "source": [
    "my_name = \"gamze\""
   ]
  },
  {
   "cell_type": "code",
   "execution_count": 3,
   "id": "b491d276-1af7-4883-a671-40c0c17710b6",
   "metadata": {},
   "outputs": [
    {
     "data": {
      "text/plain": [
       "'GAMZE'"
      ]
     },
     "execution_count": 3,
     "metadata": {},
     "output_type": "execute_result"
    }
   ],
   "source": [
    "my_name.upper()"
   ]
  },
  {
   "cell_type": "code",
   "execution_count": 4,
   "id": "3f41a665-bfbc-472d-91cd-ccea786d16a5",
   "metadata": {},
   "outputs": [
    {
     "data": {
      "text/plain": [
       "'GAMZE'"
      ]
     },
     "execution_count": 4,
     "metadata": {},
     "output_type": "execute_result"
    }
   ],
   "source": [
    "my_name_upper = my_name.upper()\n",
    "my_name_upper"
   ]
  },
  {
   "cell_type": "code",
   "execution_count": 5,
   "id": "1ec01d1c-a75f-4de6-989c-05872e99517f",
   "metadata": {},
   "outputs": [
    {
     "data": {
      "text/plain": [
       "'gamze'"
      ]
     },
     "execution_count": 5,
     "metadata": {},
     "output_type": "execute_result"
    }
   ],
   "source": [
    "my_name"
   ]
  },
  {
   "cell_type": "code",
   "execution_count": 6,
   "id": "110d390f-fafd-4ec9-bbcf-425fd71918e7",
   "metadata": {},
   "outputs": [
    {
     "name": "stdout",
     "output_type": "stream",
     "text": [
      "Help on built-in function upper:\n",
      "\n",
      "upper() method of builtins.str instance\n",
      "    Return a copy of the string converted to uppercase.\n",
      "\n"
     ]
    }
   ],
   "source": [
    "help(my_name.upper)"
   ]
  },
  {
   "cell_type": "code",
   "execution_count": 7,
   "id": "2b041a17-440f-4d2a-bf0d-11e593b59c6c",
   "metadata": {},
   "outputs": [],
   "source": [
    "# functions -> sonradan tekrar kullanılabilir, girdi ve cıktı alabilir, düzenli kod blokları olusturmaya yarar"
   ]
  },
  {
   "cell_type": "code",
   "execution_count": 8,
   "id": "154e4fb7-16b7-4acc-83d2-b5b6595707e3",
   "metadata": {},
   "outputs": [],
   "source": [
    "def hello_python():\n",
    "    print(\"hello\")\n",
    "    print(\"python\")"
   ]
  },
  {
   "cell_type": "code",
   "execution_count": 9,
   "id": "b4f56d5c-e246-459c-885b-e3da2eb8fc72",
   "metadata": {},
   "outputs": [
    {
     "data": {
      "text/plain": [
       "<function __main__.hello_python()>"
      ]
     },
     "execution_count": 9,
     "metadata": {},
     "output_type": "execute_result"
    }
   ],
   "source": [
    "hello_python"
   ]
  },
  {
   "cell_type": "code",
   "execution_count": 10,
   "id": "0d29807a-1448-4a98-a7eb-f8f4fe7de8f5",
   "metadata": {},
   "outputs": [
    {
     "name": "stdout",
     "output_type": "stream",
     "text": [
      "hello\n",
      "python\n"
     ]
    }
   ],
   "source": [
    "hello_python()"
   ]
  },
  {
   "cell_type": "code",
   "execution_count": 11,
   "id": "2643123a-3a87-437e-b4f0-8860f1370877",
   "metadata": {},
   "outputs": [],
   "source": [
    "# input"
   ]
  },
  {
   "cell_type": "code",
   "execution_count": 12,
   "id": "a568a994-18aa-4049-aadd-17a7632ddc08",
   "metadata": {},
   "outputs": [],
   "source": [
    "def hello_name(name):\n",
    "    print(\"hello\")\n",
    "    print(name)   "
   ]
  },
  {
   "cell_type": "code",
   "execution_count": 13,
   "id": "a49ce36c-fa0c-4c5f-bf96-369ff3f33b4a",
   "metadata": {},
   "outputs": [
    {
     "name": "stdout",
     "output_type": "stream",
     "text": [
      "hello\n",
      "gamze\n"
     ]
    }
   ],
   "source": [
    "hello_name(\"gamze\")"
   ]
  },
  {
   "cell_type": "code",
   "execution_count": 14,
   "id": "e04399e5-f496-4de1-bb68-4703fd4390c9",
   "metadata": {},
   "outputs": [
    {
     "name": "stdout",
     "output_type": "stream",
     "text": [
      "hello\n",
      "java\n"
     ]
    }
   ],
   "source": [
    "hello_name(\"java\")"
   ]
  },
  {
   "cell_type": "code",
   "execution_count": 15,
   "id": "227ae9a6-12ea-4690-9973-e8b49691d6c3",
   "metadata": {},
   "outputs": [],
   "source": [
    "def sum_ex(num1, num2):\n",
    "    print(num1+num2)"
   ]
  },
  {
   "cell_type": "code",
   "execution_count": 16,
   "id": "a67b05a3-3724-4f63-af51-1e9560469ba2",
   "metadata": {},
   "outputs": [
    {
     "name": "stdout",
     "output_type": "stream",
     "text": [
      "25\n"
     ]
    }
   ],
   "source": [
    "sum_ex(10,15)"
   ]
  },
  {
   "cell_type": "code",
   "execution_count": 17,
   "id": "e2122fb5-8c43-45cb-a7f6-22c5c990c14d",
   "metadata": {},
   "outputs": [],
   "source": [
    "def sum_ex(num1, num2):\n",
    "    num3=num1+num2\n",
    "    print(num3)"
   ]
  },
  {
   "cell_type": "code",
   "execution_count": 18,
   "id": "e55139c0-a24a-4b27-810e-de73e40ab3d2",
   "metadata": {},
   "outputs": [
    {
     "name": "stdout",
     "output_type": "stream",
     "text": [
      "25\n"
     ]
    }
   ],
   "source": [
    "sum_ex(10,15)"
   ]
  },
  {
   "cell_type": "code",
   "execution_count": 19,
   "id": "728fcd0a-101c-466f-a7c8-d084c5b973fe",
   "metadata": {},
   "outputs": [
    {
     "ename": "TypeError",
     "evalue": "hello_name() missing 1 required positional argument: 'name'",
     "output_type": "error",
     "traceback": [
      "\u001b[1;31m---------------------------------------------------------------------------\u001b[0m",
      "\u001b[1;31mTypeError\u001b[0m                                 Traceback (most recent call last)",
      "Cell \u001b[1;32mIn[19], line 1\u001b[0m\n\u001b[1;32m----> 1\u001b[0m \u001b[43mhello_name\u001b[49m\u001b[43m(\u001b[49m\u001b[43m)\u001b[49m\n",
      "\u001b[1;31mTypeError\u001b[0m: hello_name() missing 1 required positional argument: 'name'"
     ]
    }
   ],
   "source": [
    "hello_name()"
   ]
  },
  {
   "cell_type": "code",
   "execution_count": null,
   "id": "392d3b12-8f40-45d0-be34-0d2e22f10922",
   "metadata": {},
   "outputs": [],
   "source": [
    "hello_name(\"required\")"
   ]
  },
  {
   "cell_type": "code",
   "execution_count": null,
   "id": "8f405b54-4a25-4b93-8799-f2c256df66b3",
   "metadata": {},
   "outputs": [],
   "source": [
    "def hello_surname(surname=\"cinar\"):\n",
    "    print(\"hello\")\n",
    "    print(surname)"
   ]
  },
  {
   "cell_type": "code",
   "execution_count": null,
   "id": "9ad02cd8-af12-4107-8145-dba66c91f472",
   "metadata": {},
   "outputs": [],
   "source": [
    "hello_surname(\"sam\")"
   ]
  },
  {
   "cell_type": "code",
   "execution_count": null,
   "id": "36607505-0196-484d-b1fe-bcb274563ffa",
   "metadata": {},
   "outputs": [],
   "source": [
    "hello_surname()   # icine arguman girmedgimizde default degeri verir"
   ]
  },
  {
   "cell_type": "code",
   "execution_count": null,
   "id": "d1170e06-dd49-4ffb-86a2-936d5e07aa29",
   "metadata": {},
   "outputs": [],
   "source": [
    "# return-->"
   ]
  },
  {
   "cell_type": "code",
   "execution_count": null,
   "id": "de2f3146-0d9c-41d2-91b4-1ed6ce8c6ac9",
   "metadata": {},
   "outputs": [],
   "source": [
    "def summation(num1, num2, num3):\n",
    "    print(num1+num2+num3)"
   ]
  },
  {
   "cell_type": "code",
   "execution_count": null,
   "id": "3c5d5440-daad-43cb-8dd9-c320b3471baa",
   "metadata": {},
   "outputs": [],
   "source": [
    "summation(10, 2, 8)"
   ]
  },
  {
   "cell_type": "code",
   "execution_count": null,
   "id": "539f49c6-8f90-48d7-a5ae-8ade68012b4d",
   "metadata": {},
   "outputs": [],
   "source": [
    "x = summation(10, 2, 8)"
   ]
  },
  {
   "cell_type": "code",
   "execution_count": null,
   "id": "e86d360e-bdba-4a19-a244-f81f2b8089ad",
   "metadata": {},
   "outputs": [],
   "source": [
    "x"
   ]
  },
  {
   "cell_type": "code",
   "execution_count": null,
   "id": "924b7351-efe0-45df-b118-7173eaa1085c",
   "metadata": {},
   "outputs": [],
   "source": [
    "print(x)"
   ]
  },
  {
   "cell_type": "code",
   "execution_count": null,
   "id": "24e811cf-ce34-45d4-b41c-17abfe8527b3",
   "metadata": {},
   "outputs": [],
   "source": [
    "type(x)"
   ]
  },
  {
   "cell_type": "code",
   "execution_count": null,
   "id": "5de257e9-3953-4bdb-8c4d-0abcfee533cf",
   "metadata": {},
   "outputs": [],
   "source": [
    "## Bunun sebebi, bu fonksiyınun bir sey döndürmemesi. Sadece print ediyor."
   ]
  },
  {
   "cell_type": "code",
   "execution_count": 25,
   "id": "6106f154-40f1-4f80-9819-87a38b6a8671",
   "metadata": {},
   "outputs": [],
   "source": [
    "def return_summation(num1, num2, num3):\n",
    "    result = num1+num2+num3\n",
    "    print(result)\n",
    "    return result"
   ]
  },
  {
   "cell_type": "code",
   "execution_count": 26,
   "id": "e51ff332-8959-46aa-9560-da15d897dbc0",
   "metadata": {},
   "outputs": [
    {
     "name": "stdout",
     "output_type": "stream",
     "text": [
      "20\n"
     ]
    }
   ],
   "source": [
    "x = return_summation(10, 2, 8)"
   ]
  },
  {
   "cell_type": "code",
   "execution_count": 27,
   "id": "fa7cfa22-63ec-47fe-a9dc-8c19a1b14e40",
   "metadata": {},
   "outputs": [
    {
     "data": {
      "text/plain": [
       "20"
      ]
     },
     "execution_count": 27,
     "metadata": {},
     "output_type": "execute_result"
    }
   ],
   "source": [
    "x"
   ]
  },
  {
   "cell_type": "code",
   "execution_count": 28,
   "id": "8820047b-a246-4e63-a149-052ab04c7c01",
   "metadata": {},
   "outputs": [],
   "source": [
    "# eturn ü en sona yazmak önemli. Cunkü bir fomksiyonda return dendigi an o fonksiyınun isi biter."
   ]
  },
  {
   "cell_type": "code",
   "execution_count": 30,
   "id": "058e9ea9-e83c-4732-8c44-5402a5a59e67",
   "metadata": {},
   "outputs": [],
   "source": [
    "def control_string(s):\n",
    "    if s[0] == \"a\":\n",
    "        print(\"a\")"
   ]
  },
  {
   "cell_type": "code",
   "execution_count": 31,
   "id": "29f57ff4-fabc-4731-bada-5032d9988f45",
   "metadata": {},
   "outputs": [
    {
     "name": "stdout",
     "output_type": "stream",
     "text": [
      "a\n"
     ]
    }
   ],
   "source": [
    "control_string(\"atlas\")"
   ]
  },
  {
   "cell_type": "code",
   "execution_count": 33,
   "id": "5c2de51a-0093-408f-8ee8-3fca4fdd4491",
   "metadata": {},
   "outputs": [],
   "source": [
    "# args, kwargs(arguments, key word arguments)"
   ]
  },
  {
   "cell_type": "code",
   "execution_count": 34,
   "id": "71c68eb6-4248-457c-beef-c46a24d6fc5e",
   "metadata": {},
   "outputs": [],
   "source": [
    "# args ile sayısız arguman verilebilir"
   ]
  },
  {
   "cell_type": "code",
   "execution_count": 35,
   "id": "13b1d45b-2c21-4fb3-b2a7-102ea06c4ad2",
   "metadata": {},
   "outputs": [],
   "source": [
    "def arg_sum(*args):\n",
    "    return sum(args)"
   ]
  },
  {
   "cell_type": "code",
   "execution_count": 36,
   "id": "ee19cc7e-9c1e-4a4b-959d-f96d3512ff00",
   "metadata": {},
   "outputs": [
    {
     "data": {
      "text/plain": [
       "164"
      ]
     },
     "execution_count": 36,
     "metadata": {},
     "output_type": "execute_result"
    }
   ],
   "source": [
    "arg_sum(20,30,50,64)"
   ]
  },
  {
   "cell_type": "code",
   "execution_count": 37,
   "id": "cace2dab-be2c-449d-abad-20dc77bf873c",
   "metadata": {},
   "outputs": [],
   "source": [
    "def args_ex(*args):\n",
    "    print(args)"
   ]
  },
  {
   "cell_type": "code",
   "execution_count": 38,
   "id": "151d30ea-7207-4818-b489-08817c9dc646",
   "metadata": {},
   "outputs": [
    {
     "name": "stdout",
     "output_type": "stream",
     "text": [
      "(20, 30, 50, 64)\n"
     ]
    }
   ],
   "source": [
    "args_ex(20,30,50,64)"
   ]
  },
  {
   "cell_type": "code",
   "execution_count": 39,
   "id": "d9247a02-a28d-481c-bc34-ec60dd6197e5",
   "metadata": {},
   "outputs": [],
   "source": [
    "# args, birden fazla veya sayısı belli olmayan input durumlarında kullanılabilir."
   ]
  },
  {
   "cell_type": "code",
   "execution_count": 40,
   "id": "6559305e-1744-4287-ae92-c03ca0e1ae22",
   "metadata": {},
   "outputs": [],
   "source": [
    "def kwargs_ex(**kwargs):\n",
    "    print(kwargs)"
   ]
  },
  {
   "cell_type": "code",
   "execution_count": 41,
   "id": "d51b76da-e909-4126-8b96-369c6bc8b0dd",
   "metadata": {},
   "outputs": [
    {
     "name": "stdout",
     "output_type": "stream",
     "text": [
      "{'a': 100, 'b': 300, 'c': 500}\n"
     ]
    }
   ],
   "source": [
    "kwargs_ex(a=100, b=300, c=500)"
   ]
  },
  {
   "cell_type": "code",
   "execution_count": 42,
   "id": "4ebf6d85-60cf-4ff6-bc9e-ff41914df3fa",
   "metadata": {},
   "outputs": [],
   "source": [
    "def kwargs_ex_2(**kwargs):\n",
    "    if \"a\" in kwargs:\n",
    "        print(\"appleeee\")\n",
    "    else:\n",
    "        print(\":)\")           "
   ]
  },
  {
   "cell_type": "code",
   "execution_count": 43,
   "id": "05e4c4b2-5b5f-4937-a4c9-b40448b8d6c4",
   "metadata": {},
   "outputs": [
    {
     "name": "stdout",
     "output_type": "stream",
     "text": [
      "appleeee\n"
     ]
    }
   ],
   "source": [
    "kwargs_ex_2(a=100, b=300)"
   ]
  },
  {
   "cell_type": "code",
   "execution_count": 44,
   "id": "f44fcf8c-9480-4914-bbd5-a7250c17c37d",
   "metadata": {},
   "outputs": [
    {
     "name": "stdout",
     "output_type": "stream",
     "text": [
      ":)\n"
     ]
    }
   ],
   "source": [
    "kwargs_ex_2(c=500)"
   ]
  },
  {
   "cell_type": "code",
   "execution_count": null,
   "id": "3d882f35-349d-496c-9219-44e81a70d787",
   "metadata": {},
   "outputs": [],
   "source": []
  }
 ],
 "metadata": {
  "kernelspec": {
   "display_name": "Python 3 (ipykernel)",
   "language": "python",
   "name": "python3"
  },
  "language_info": {
   "codemirror_mode": {
    "name": "ipython",
    "version": 3
   },
   "file_extension": ".py",
   "mimetype": "text/x-python",
   "name": "python",
   "nbconvert_exporter": "python",
   "pygments_lexer": "ipython3",
   "version": "3.10.9"
  }
 },
 "nbformat": 4,
 "nbformat_minor": 5
}
